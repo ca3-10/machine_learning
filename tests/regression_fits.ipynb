{
 "cells": [
  {
   "cell_type": "code",
   "execution_count": 28,
   "metadata": {},
   "outputs": [],
   "source": [
    "import numpy as np\n",
    "import pandas as pd\n",
    "import matplotlib.pyplot as plt\n",
    "import sys\n",
    "sys.path.insert(1, sys.path[0].replace('tests', 'src'))\n",
    "from polynomial_regression import PolynomialRegressor"
   ]
  },
  {
   "cell_type": "code",
   "execution_count": 31,
   "metadata": {},
   "outputs": [
    {
     "data": {
      "image/png": "[encoded data removed]",
      "text/plain": [
       "<Figure size 432x288 with 1 Axes>"
      ]
     },
     "metadata": {
      "needs_background": "light"
     },
     "output_type": "display_data"
    }
   ],
   "source": [
    "data_points = [(1,3), (2,10), (3,40), (4,25), (5,90), (6,100), (7,180), (8,140), (9,250), (10,260)]\n",
    "x_values = [data_points[i][0] for i in range(len(data_points))]\n",
    "y_values = [data_points[i][1] for i in range(len(data_points))]\n",
    "plt.scatter(x_values, y_values)\n",
    "\n",
    "#linear\n",
    "lin = PolynomialRegressor()\n",
    "lin.fit(data_points, 1)\n",
    "\n",
    "#quadratic \n",
    "quad = PolynomialRegressor()\n",
    "quad.fit(data_points, 2)\n",
    "\n",
    "#seventh_degree\n",
    "seven = PolynomialRegressor()\n",
    "seven.fit(data_points, 7)\n",
    "\n",
    "all_x_values = [i for i in range(-10,101)]\n",
    "lin_y_values = [lin.predict(i) for i in range(-10, 101)]\n",
    "quad_y_values = [quad.predict(i) for i in range(-10, 101)]\n",
    "seven_y_values = [seven.predict(i) for i in range(-10, 101)]\n",
    "\n",
    "\n",
    "\n"
   ]
  }
 ],
 "metadata": {
  "language_info": {
   "name": "python"
  },
  "orig_nbformat": 4
 },
 "nbformat": 4,
 "nbformat_minor": 2
}
