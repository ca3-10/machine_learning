{
 "cells": [
  {
   "cell_type": "code",
   "execution_count": 36,
   "metadata": {},
   "outputs": [],
   "source": [
    "import numpy as np\n",
    "import pandas as pd\n",
    "import matplotlib.pyplot as plt\n",
    "import sys\n",
    "sys.path.insert(1, sys.path[0].replace('tests', 'src'))\n",
    "from Kmeans import KMeans"
   ]
  },
  {
   "cell_type": "code",
   "execution_count": 37,
   "metadata": {},
   "outputs": [],
   "source": [
    "\n",
    "data = [[0.14, 0.14, 0.28, 0.44],\n",
    "        [0.22, 0.1, 0.45, 0.33],\n",
    "        [0.1, 0.19, 0.25, 0.4],\n",
    "        [0.02, 0.08, 0.43, 0.45],\n",
    "        [0.16, 0.08, 0.35, 0.3],\n",
    "        [0.14, 0.17, 0.31, 0.38],\n",
    "        [0.05, 0.14, 0.35, 0.5],\n",
    "        [0.1, 0.21, 0.28, 0.44],\n",
    "        [0.04, 0.08, 0.35, 0.47],\n",
    "        [0.11, 0.13, 0.28, 0.45],\n",
    "        [0.0, 0.07, 0.34, 0.65],\n",
    "        [0.2, 0.05, 0.4, 0.37],\n",
    "        [0.12, 0.15, 0.33, 0.45],\n",
    "        [0.25, 0.1, 0.3, 0.35],\n",
    "        [0.0, 0.1, 0.4, 0.5],\n",
    "        [0.15, 0.2, 0.3, 0.37],\n",
    "        [0.0, 0.13, 0.4, 0.49],\n",
    "        [0.22, 0.07, 0.4, 0.38],\n",
    "        [0.2, 0.18, 0.3, 0.4]]"
   ]
  },
  {
   "cell_type": "code",
   "execution_count": 39,
   "metadata": {},
   "outputs": [],
   "source": [
    "\n",
    "def distance(a,b):\n",
    "    answer = 0\n",
    "    for i in range(len(a)):\n",
    "        answer+= (b[i] - a[i]) ** 2\n",
    "    return answer\n",
    "\n",
    "k_values = [i for i in range(1,5)]\n",
    "total_squared_error = []\n",
    "\n",
    "for k_value in range(1,5): \n",
    "\n",
    "    initial_clusters = {k+1:[i for i in range(k, len(data), k_value)] for k in range(k_value)}\n",
    "    K = KMeans(initial_clusters, data)\n",
    "    K.run()\n",
    "    squared_error = 0\n",
    "    for cluster in K.clusters:\n",
    "        for row in K.clusters[cluster]:\n",
    "            print\n",
    "            squared_error += distance(data[row], K.centers[cluster])\n",
    "    total_squared_error.append(squared_error)\n",
    "\n",
    "    "
   ]
  },
  {
   "cell_type": "code",
   "execution_count": 40,
   "metadata": {},
   "outputs": [
    {
     "data": {
      "text/plain": [
       "[<matplotlib.lines.Line2D at 0x7fe812a86970>]"
      ]
     },
     "execution_count": 40,
     "metadata": {},
     "output_type": "execute_result"
    },
    {
     "data": {
      "image/png": "[encoded data removed]",
      "text/plain": [
       "<Figure size 432x288 with 1 Axes>"
      ]
     },
     "metadata": {
      "needs_background": "light"
     },
     "output_type": "display_data"
    }
   ],
   "source": [
    "plt.plot(k_values, total_squared_error)"
   ]
  }
 ],
 "metadata": {
  "interpreter": {
   "hash": "8b8334dab9339717f727a1deaf837b322d7a41c20d15cc86be99a8e69ceec8ce"
  },
  "kernelspec": {
   "display_name": "Python 3.8.12 64-bit ('3.8.12')",
   "language": "python",
   "name": "python3"
  },
  "language_info": {
   "codemirror_mode": {
    "name": "ipython",
    "version": 3
   },
   "file_extension": ".py",
   "mimetype": "text/x-python",
   "name": "python",
   "nbconvert_exporter": "python",
   "pygments_lexer": "ipython3",
   "version": "3.8.12"
  },
  "orig_nbformat": 4
 },
 "nbformat": 4,
 "nbformat_minor": 2
}
