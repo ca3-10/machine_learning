{
 "cells": [
  {
   "cell_type": "code",
   "execution_count": 1,
   "metadata": {},
   "outputs": [],
   "source": [
    "import numpy as np\n",
    "import pandas as pd\n",
    "import matplotlib.pyplot as plt\n",
    "import sys\n",
    "sys.path.insert(1, sys.path[0].replace('tests', 'src'))\n",
    "from kNN import KNearestNeighborsClassifier"
   ]
  },
  {
   "cell_type": "code",
   "execution_count": 2,
   "metadata": {},
   "outputs": [],
   "source": [
    "data_points = [['Shortbread',     0.14,       0.14,      0.28,     0.44],\n",
    "        ['Shortbread',     0.10,       0.18,      0.28,     0.44],\n",
    "        ['Shortbread',     0.12,       0.10,      0.33,     0.45],\n",
    "        ['Shortbread',     0.10,       0.25,      0.25,     0.40],\n",
    "        ['Sugar',     0.00,       0.10,      0.40,     0.50],\n",
    "        ['Sugar',     0.00,       0.20,      0.40,     0.40],\n",
    "        ['Sugar',     0.02,       0.08,      0.45,     0.45],\n",
    "        ['Sugar',     0.10,       0.15,      0.35,     0.40],\n",
    "        ['Sugar',     0.10,       0.08,      0.35,     0.47],\n",
    "        ['Sugar',     0.00,       0.05,      0.30,     0.65],\n",
    "        ['Fortune',     0.20,       0.00,      0.40,     0.40],\n",
    "        ['Fortune',     0.25,       0.10,      0.30,     0.35],\n",
    "        ['Fortune',     0.22,       0.15,      0.50,     0.13],\n",
    "        ['Fortune',     0.15,       0.20,      0.35,     0.30],\n",
    "        ['Fortune',     0.22,       0.00,      0.40,     0.38],\n",
    "        ['Shortbread',     0.05,       0.12,      0.28,     0.55],\n",
    "        ['Shortbread',     0.14,       0.27,      0.31,     0.28],\n",
    "        ['Shortbread',     0.15,       0.23,      0.30,     0.32],\n",
    "        ['Shortbread',     0.20,       0.10,      0.30,     0.40]]\n",
    "\n",
    "classification = [rows[0] for rows in data_points]\n",
    "\n",
    "data_values = [rows[1:] for rows in data_points]\n",
    "\n",
    "\n",
    "\n"
   ]
  },
  {
   "cell_type": "code",
   "execution_count": 3,
   "metadata": {},
   "outputs": [],
   "source": [
    "\n",
    "k_error_dict ={ i: 0 for i in range(1,19)}\n",
    "\n",
    "for k_value in range(1,19):\n",
    "    \n",
    "    kNN = KNearestNeighborsClassifier(k=k_value)\n",
    "\n",
    "    for i in range(len(data_values)):\n",
    "\n",
    "        current_point_data = data_values[i]\n",
    "        current_point_classification = classification[i]\n",
    "        \n",
    "        data_values.pop(i)\n",
    "        classification.pop(i)\n",
    "\n",
    "        kNN.fit(data_values, classification)\n",
    "        classified = kNN.classify(current_point_data)\n",
    "    \n",
    "        if current_point_classification == classified:\n",
    "            k_error_dict[k_value] += 1\n",
    "\n",
    "        data_values.insert(i, current_point_data)\n",
    "        classification.insert(i, current_point_classification)\n",
    "\n",
    "k_values = [key for key in k_error_dict]\n",
    "number_correct = [k_error_dict[key] for key in k_error_dict]\n",
    "percentage_correct = [ num_correct / 19 for num_correct in number_correct]\n"
   ]
  },
  {
   "cell_type": "code",
   "execution_count": 4,
   "metadata": {},
   "outputs": [
    {
     "data": {
      "text/plain": [
       "<AxesSubplot:xlabel='k_values', ylabel='percentage_correct'>"
      ]
     },
     "execution_count": 4,
     "metadata": {},
     "output_type": "execute_result"
    },
    {
     "data": {
      "image/png": "[encoded data removed]",
      "text/plain": [
       "<Figure size 720x720 with 1 Axes>"
      ]
     },
     "metadata": {
      "needs_background": "light"
     },
     "output_type": "display_data"
    }
   ],
   "source": [
    "k_error_df = pd.DataFrame({'k_values': k_values, 'percentage_correct': percentage_correct})\n",
    "k_error_df.plot(x =  'k_values', y = 'percentage_correct', kind='scatter', figsize = (10,10))"
   ]
  }
 ],
 "metadata": {
  "interpreter": {
   "hash": "8b8334dab9339717f727a1deaf837b322d7a41c20d15cc86be99a8e69ceec8ce"
  },
  "kernelspec": {
   "display_name": "Python 3.8.12 64-bit ('3.8.12')",
   "language": "python",
   "name": "python3"
  },
  "language_info": {
   "codemirror_mode": {
    "name": "ipython",
    "version": 3
   },
   "file_extension": ".py",
   "mimetype": "text/x-python",
   "name": "python",
   "nbconvert_exporter": "python",
   "pygments_lexer": "ipython3",
   "version": "3.8.12"
  },
  "orig_nbformat": 4
 },
 "nbformat": 4,
 "nbformat_minor": 2
}
