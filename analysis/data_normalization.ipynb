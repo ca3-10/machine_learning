{
 "cells": [
  {
   "cell_type": "code",
   "execution_count": 198,
   "metadata": {},
   "outputs": [],
   "source": [
    "import numpy as np\n",
    "import pandas as pd\n",
    "import sys\n",
    "sys.path.insert(1, sys.path[0].replace('analysis', 'src'))\n",
    "from kNN import KNearestNeighborsClassifier\n",
    "\n",
    "books = pd.read_csv(\"../analysis/child_vs_adult_books.csv\")"
   ]
  },
  {
   "cell_type": "code",
   "execution_count": 199,
   "metadata": {},
   "outputs": [],
   "source": [
    "all_data = books.values.tolist()\n",
    "\n",
    "classification = [row[-1] for row in all_data]\n",
    "\n",
    "data_values = [row[:4] for row in all_data]"
   ]
  },
  {
   "cell_type": "code",
   "execution_count": 200,
   "metadata": {},
   "outputs": [],
   "source": [
    "column_names = [\"num pages\", \"num unique words\", \"avg sentence length\", \"avg word size\"]\n",
    "maxes = []\n",
    "mins = []\n",
    "averages = []\n",
    "stds = []\n",
    "for name in column_names: \n",
    "    maxes.append(books[name].max())\n",
    "    mins.append(books[name].min())\n",
    "    averages.append(books[name].mean())\n",
    "    stds.append(books[name].std())\n",
    "\n",
    "simple_data = [[] for i in range(len(data_values))]\n",
    "min_max_data = [[] for i in range(len(data_values))]\n",
    "z_score_data = [[] for i in range(len(data_values))]\n",
    "\n",
    "#simple_scaling data\n",
    "\n",
    "for i in range(len(data_values)): \n",
    "    for j in range(len(data_values[0])):\n",
    "        simple_data[i].append(data_values[i][j] / maxes[j])\n",
    "\n",
    "#min-max scaling data \n",
    "for i in range(len(data_values)): \n",
    "    for j in range(len(data_values[0])):\n",
    "        min_max = (data_values[i][j] - mins[j]) / (maxes[j] - mins[j])\n",
    "        min_max_data[i].append(min_max)\n",
    "\n",
    "#z_score data\n",
    "for i in range(len(data_values)): \n",
    "    for j in range(len(data_values[0])):\n",
    "        z_score = (data_values[i][j] - averages[j]) / stds[j]\n",
    "        z_score_data[i].append(z_score)\n"
   ]
  },
  {
   "cell_type": "code",
   "execution_count": 201,
   "metadata": {},
   "outputs": [],
   "source": [
    "leave_out_dict = {}\n",
    "\n",
    "for k_value in range(1,100,2):\n",
    "    leave_out_dict[k_value] = 0\n",
    "    kNN = KNearestNeighborsClassifier(k=k_value)\n",
    "\n",
    "    for i in range(len(data_values)):\n",
    "\n",
    "        current_point_data = data_values[i]\n",
    "        current_point_classification = classification[i]\n",
    "        \n",
    "        data_values.pop(i)\n",
    "        classification.pop(i)\n",
    "\n",
    "        kNN.fit(data_values, classification)\n",
    "        classified = kNN.classify(current_point_data)\n",
    "    \n",
    "        if current_point_classification == classified:\n",
    "            leave_out_dict[k_value] += 1\n",
    "\n",
    "        data_values.insert(i, current_point_data)\n",
    "        classification.insert(i, current_point_classification)\n",
    "\n",
    "\n",
    "leave_out_accuracy = [leave_out_dict[k] / len(data_values) for k in range(1,100,2)]"
   ]
  },
  {
   "cell_type": "code",
   "execution_count": 202,
   "metadata": {},
   "outputs": [],
   "source": [
    "simple_dict = {}\n",
    "\n",
    "for k_value in range(1,100,2):\n",
    "    simple_dict[k_value] = 0\n",
    "    kNN = KNearestNeighborsClassifier(k=k_value)\n",
    "\n",
    "    for i in range(len(simple_data)):\n",
    "\n",
    "        current_point_data = simple_data[i]\n",
    "        current_point_classification = classification[i]\n",
    "        \n",
    "        simple_data.pop(i)\n",
    "        classification.pop(i)\n",
    "\n",
    "        kNN.fit(simple_data, classification)\n",
    "        classified = kNN.classify(current_point_data)\n",
    "    \n",
    "        if current_point_classification == classified:\n",
    "            simple_dict[k_value] += 1\n",
    "\n",
    "        simple_data.insert(i, current_point_data)\n",
    "        classification.insert(i, current_point_classification)\n",
    "\n",
    "\n",
    "simple_accuracy = [simple_dict[k] / len(data_values) for k in range(1,100,2)]"
   ]
  },
  {
   "cell_type": "code",
   "execution_count": 203,
   "metadata": {},
   "outputs": [],
   "source": [
    "min_max_dict = {}\n",
    "\n",
    "for k_value in range(1,100,2):\n",
    "    min_max_dict[k_value] = 0\n",
    "    kNN = KNearestNeighborsClassifier(k=k_value)\n",
    "\n",
    "    for i in range(len(data_values)):\n",
    "\n",
    "        current_point_data = min_max_data[i]\n",
    "        current_point_classification = classification[i]\n",
    "        \n",
    "        min_max_data.pop(i)\n",
    "        classification.pop(i)\n",
    "\n",
    "        kNN.fit(min_max_data, classification)\n",
    "        classified = kNN.classify(current_point_data)\n",
    "    \n",
    "        if current_point_classification == classified:\n",
    "            min_max_dict[k_value] += 1\n",
    "\n",
    "        min_max_data.insert(i, current_point_data)\n",
    "        classification.insert(i, current_point_classification)\n",
    "\n",
    "\n",
    "min_max_accuracy = [min_max_dict[k] / len(data_values) for k in range(1,100,2)]\n"
   ]
  },
  {
   "cell_type": "code",
   "execution_count": 204,
   "metadata": {},
   "outputs": [],
   "source": [
    "z_score_dict = {}\n",
    "\n",
    "for k_value in range(1,100,2):\n",
    "    z_score_dict[k_value] = 0\n",
    "    kNN = KNearestNeighborsClassifier(k=k_value)\n",
    "\n",
    "    for i in range(len(data_values)):\n",
    "\n",
    "        current_point_data = z_score_data[i]\n",
    "        current_point_classification = classification[i]\n",
    "        \n",
    "        z_score_data.pop(i)\n",
    "        classification.pop(i)\n",
    "\n",
    "        kNN.fit(z_score_data, classification)\n",
    "        classified = kNN.classify(current_point_data)\n",
    "    \n",
    "        if current_point_classification == classified:\n",
    "            z_score_dict[k_value] += 1\n",
    "\n",
    "        z_score_data.insert(i, current_point_data)\n",
    "        classification.insert(i, current_point_classification)\n",
    "\n",
    "\n",
    "z_score_accuracy = [z_score_dict[k] / len(data_values) for k in range(1,100,2)]"
   ]
  },
  {
   "cell_type": "code",
   "execution_count": 205,
   "metadata": {},
   "outputs": [
    {
     "data": {
      "text/plain": [
       "<AxesSubplot:xlabel='k', ylabel='z_score_accuracy'>"
      ]
     },
     "execution_count": 205,
     "metadata": {},
     "output_type": "execute_result"
    },
    {
     "data": {
      "image/png": "[encoded data removed]",
      "text/plain": [
       "<Figure size 720x1080 with 1 Axes>"
      ]
     },
     "metadata": {
      "needs_background": "light"
     },
     "output_type": "display_data"
    }
   ],
   "source": [
    "k_values = range(1,100,2)\n",
    "\n",
    "all_accuracy_df = pd.DataFrame({'k': k_values, 'leave_out_accuracy': leave_out_accuracy, 'simple_accuracy': simple_accuracy, 'min_max_accuracy': min_max_accuracy, 'z_score_accuracy': z_score_accuracy})\n",
    "leave_out_plot = all_accuracy_df.plot(x='k', y='leave_out_accuracy', label='Leave Out Accuracy', kind='scatter', color='red')\n",
    "simple_plot = all_accuracy_df.plot(x='k', y='simple_accuracy', label='Simple Accuracy', ax=leave_out_plot, kind='scatter', color='blue')\n",
    "min_max_plot = all_accuracy_df.plot(x='k', y='min_max_accuracy', label='Min-Max Accuracy', ax=simple_plot, kind='scatter', color='orange')\n",
    "all_accuracy_df.plot(x='k', y='z_score_accuracy', label='Z-score Accuracy', ax= min_max_plot, kind='scatter', color='green', figsize=(10,15))"
   ]
  }
 ],
 "metadata": {
  "interpreter": {
   "hash": "8b8334dab9339717f727a1deaf837b322d7a41c20d15cc86be99a8e69ceec8ce"
  },
  "kernelspec": {
   "display_name": "Python 3.8.12 64-bit ('3.8.12')",
   "language": "python",
   "name": "python3"
  },
  "language_info": {
   "codemirror_mode": {
    "name": "ipython",
    "version": 3
   },
   "file_extension": ".py",
   "mimetype": "text/x-python",
   "name": "python",
   "nbconvert_exporter": "python",
   "pygments_lexer": "ipython3",
   "version": "3.8.12"
  },
  "orig_nbformat": 4
 },
 "nbformat": 4,
 "nbformat_minor": 2
}
