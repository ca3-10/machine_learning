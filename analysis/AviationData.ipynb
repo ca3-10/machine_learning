{
 "cells": [
  {
   "cell_type": "code",
   "execution_count": null,
   "metadata": {},
   "outputs": [],
   "source": [
    "diamonds.hist(column=\"Purpose.of.flight\",       \n",
    "              figsize=(8,8),         \n",
    "              color=\"blue\");"
   ]
  }
 ],
 "metadata": {
  "interpreter": {
   "hash": "e55666fbbf217aa3df372b978577f47b6009e2f78e2ec76a584f49cd54a1e62c"
  },
  "kernelspec": {
   "display_name": "Python 2.7.18 64-bit",
   "name": "python3"
  },
  "language_info": {
   "name": "python",
   "version": "2.7.18"
  },
  "orig_nbformat": 4
 },
 "nbformat": 4,
 "nbformat_minor": 2
}
