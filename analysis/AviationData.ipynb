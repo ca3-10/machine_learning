{
 "cells": [
  {
   "cell_type": "code",
   "execution_count": 114,
   "metadata": {},
   "outputs": [],
   "source": [
    "import numpy as np\n",
    "import pandas as pd\n",
    "import matplotlib.pyplot as plt\n",
    "import seaborn as sns\n",
    "import operator\n",
    "AviationData = pd.read_csv(\"../analysis/AviationData.csv\")"
   ]
  },
  {
   "cell_type": "code",
   "execution_count": null,
   "metadata": {},
   "outputs": [],
   "source": []
  },
  {
   "cell_type": "code",
   "execution_count": 115,
   "metadata": {},
   "outputs": [
    {
     "data": {
      "text/html": [
       "<div>\n",
       "<style scoped>\n",
       "    .dataframe tbody tr th:only-of-type {\n",
       "        vertical-align: middle;\n",
       "    }\n",
       "\n",
       "    .dataframe tbody tr th {\n",
       "        vertical-align: top;\n",
       "    }\n",
       "\n",
       "    .dataframe thead th {\n",
       "        text-align: right;\n",
       "    }\n",
       "</style>\n",
       "<table border=\"1\" class=\"dataframe\">\n",
       "  <thead>\n",
       "    <tr style=\"text-align: right;\">\n",
       "      <th></th>\n",
       "      <th>Event.Id</th>\n",
       "      <th>Investigation.Type</th>\n",
       "      <th>Accident.Number</th>\n",
       "      <th>Event.Date</th>\n",
       "      <th>LOCATION</th>\n",
       "      <th>Country</th>\n",
       "      <th>Latitude</th>\n",
       "      <th>Longitude</th>\n",
       "      <th>Airport.Code</th>\n",
       "      <th>Airport.Name</th>\n",
       "      <th>...</th>\n",
       "      <th>Purpose.of.flight</th>\n",
       "      <th>Air.carrier</th>\n",
       "      <th>Total.Fatal.Injuries</th>\n",
       "      <th>Total.Serious.Injuries</th>\n",
       "      <th>Total.Minor.Injuries</th>\n",
       "      <th>Total.Uninjured</th>\n",
       "      <th>Weather.Condition</th>\n",
       "      <th>Broad.phase.of.flight</th>\n",
       "      <th>Report.Status</th>\n",
       "      <th>Publication.Date</th>\n",
       "    </tr>\n",
       "  </thead>\n",
       "  <tbody>\n",
       "    <tr>\n",
       "      <th>0</th>\n",
       "      <td>2.02102E+13</td>\n",
       "      <td>Accident</td>\n",
       "      <td>CEN21FA130</td>\n",
       "      <td>2021-02-16</td>\n",
       "      <td>JANESVILLE, WI</td>\n",
       "      <td>United States</td>\n",
       "      <td>42.595377</td>\n",
       "      <td>-89.030245</td>\n",
       "      <td>NaN</td>\n",
       "      <td>NaN</td>\n",
       "      <td>...</td>\n",
       "      <td>Ferry</td>\n",
       "      <td>NaN</td>\n",
       "      <td>2.0</td>\n",
       "      <td>0.0</td>\n",
       "      <td>0.0</td>\n",
       "      <td>0.0</td>\n",
       "      <td>VMC</td>\n",
       "      <td>NaN</td>\n",
       "      <td>NaN</td>\n",
       "      <td>NaN</td>\n",
       "    </tr>\n",
       "    <tr>\n",
       "      <th>1</th>\n",
       "      <td>2.02102E+13</td>\n",
       "      <td>Accident</td>\n",
       "      <td>ERA21FA130</td>\n",
       "      <td>2021-02-15</td>\n",
       "      <td>St Thomas, CB</td>\n",
       "      <td>United States</td>\n",
       "      <td>18.354444</td>\n",
       "      <td>-65.027778</td>\n",
       "      <td>NaN</td>\n",
       "      <td>NaN</td>\n",
       "      <td>...</td>\n",
       "      <td>Aobv</td>\n",
       "      <td>Caribbean Buzz Management Llc.</td>\n",
       "      <td>4.0</td>\n",
       "      <td>0.0</td>\n",
       "      <td>0.0</td>\n",
       "      <td>0.0</td>\n",
       "      <td>VMC</td>\n",
       "      <td>NaN</td>\n",
       "      <td>NaN</td>\n",
       "      <td>NaN</td>\n",
       "    </tr>\n",
       "    <tr>\n",
       "      <th>2</th>\n",
       "      <td>2.02102E+13</td>\n",
       "      <td>Accident</td>\n",
       "      <td>ANC21LA017</td>\n",
       "      <td>2021-02-13</td>\n",
       "      <td>TYONEK, AK</td>\n",
       "      <td>United States</td>\n",
       "      <td>61.336392</td>\n",
       "      <td>-152.016430</td>\n",
       "      <td>NaN</td>\n",
       "      <td>NaN</td>\n",
       "      <td>...</td>\n",
       "      <td>Personal</td>\n",
       "      <td>Paul Andrews</td>\n",
       "      <td>0.0</td>\n",
       "      <td>0.0</td>\n",
       "      <td>2.0</td>\n",
       "      <td>0.0</td>\n",
       "      <td>NaN</td>\n",
       "      <td>NaN</td>\n",
       "      <td>NaN</td>\n",
       "      <td>NaN</td>\n",
       "    </tr>\n",
       "    <tr>\n",
       "      <th>3</th>\n",
       "      <td>2.02102E+13</td>\n",
       "      <td>Accident</td>\n",
       "      <td>CEN21LA127</td>\n",
       "      <td>2021-02-12</td>\n",
       "      <td>PRAIRIE DU SAC, WI</td>\n",
       "      <td>United States</td>\n",
       "      <td>43.297731</td>\n",
       "      <td>-89.755693</td>\n",
       "      <td>91C</td>\n",
       "      <td>SAUK-PRAIRIE</td>\n",
       "      <td>...</td>\n",
       "      <td>Instructional</td>\n",
       "      <td>NaN</td>\n",
       "      <td>0.0</td>\n",
       "      <td>0.0</td>\n",
       "      <td>0.0</td>\n",
       "      <td>1.0</td>\n",
       "      <td>VMC</td>\n",
       "      <td>NaN</td>\n",
       "      <td>NaN</td>\n",
       "      <td>NaN</td>\n",
       "    </tr>\n",
       "    <tr>\n",
       "      <th>4</th>\n",
       "      <td>2.02102E+13</td>\n",
       "      <td>Accident</td>\n",
       "      <td>ERA21LA131</td>\n",
       "      <td>2021-02-10</td>\n",
       "      <td>LAKE PLACID, FL</td>\n",
       "      <td>United States</td>\n",
       "      <td>27.243723</td>\n",
       "      <td>-81.413767</td>\n",
       "      <td>09FA</td>\n",
       "      <td>NaN</td>\n",
       "      <td>...</td>\n",
       "      <td>Personal</td>\n",
       "      <td>Case Robert</td>\n",
       "      <td>0.0</td>\n",
       "      <td>0.0</td>\n",
       "      <td>1.0</td>\n",
       "      <td>0.0</td>\n",
       "      <td>NaN</td>\n",
       "      <td>NaN</td>\n",
       "      <td>NaN</td>\n",
       "      <td>NaN</td>\n",
       "    </tr>\n",
       "    <tr>\n",
       "      <th>...</th>\n",
       "      <td>...</td>\n",
       "      <td>...</td>\n",
       "      <td>...</td>\n",
       "      <td>...</td>\n",
       "      <td>...</td>\n",
       "      <td>...</td>\n",
       "      <td>...</td>\n",
       "      <td>...</td>\n",
       "      <td>...</td>\n",
       "      <td>...</td>\n",
       "      <td>...</td>\n",
       "      <td>...</td>\n",
       "      <td>...</td>\n",
       "      <td>...</td>\n",
       "      <td>...</td>\n",
       "      <td>...</td>\n",
       "      <td>...</td>\n",
       "      <td>...</td>\n",
       "      <td>...</td>\n",
       "      <td>...</td>\n",
       "      <td>...</td>\n",
       "    </tr>\n",
       "    <tr>\n",
       "      <th>9994</th>\n",
       "      <td>20140918X93937</td>\n",
       "      <td>Accident</td>\n",
       "      <td>CEN14LA504</td>\n",
       "      <td>2014-09-18</td>\n",
       "      <td>Bloomington, IN</td>\n",
       "      <td>United States</td>\n",
       "      <td>39.164722</td>\n",
       "      <td>-86.618889</td>\n",
       "      <td>KBMG</td>\n",
       "      <td>Monroe County Airport</td>\n",
       "      <td>...</td>\n",
       "      <td>Personal</td>\n",
       "      <td>NaN</td>\n",
       "      <td>2.0</td>\n",
       "      <td>NaN</td>\n",
       "      <td>NaN</td>\n",
       "      <td>NaN</td>\n",
       "      <td>VMC</td>\n",
       "      <td>Cruise</td>\n",
       "      <td>Probable Cause</td>\n",
       "      <td>05-01-2016</td>\n",
       "    </tr>\n",
       "    <tr>\n",
       "      <th>9995</th>\n",
       "      <td>20140922X90145</td>\n",
       "      <td>Accident</td>\n",
       "      <td>CEN14WA509</td>\n",
       "      <td>2014-09-17</td>\n",
       "      <td>LE TOUGUET, FRANCE</td>\n",
       "      <td>France</td>\n",
       "      <td>NaN</td>\n",
       "      <td>NaN</td>\n",
       "      <td>LFAT</td>\n",
       "      <td>Le Touquet C??te d'Opale Airpor</td>\n",
       "      <td>...</td>\n",
       "      <td>Personal</td>\n",
       "      <td>NaN</td>\n",
       "      <td>NaN</td>\n",
       "      <td>NaN</td>\n",
       "      <td>NaN</td>\n",
       "      <td>2.0</td>\n",
       "      <td>VMC</td>\n",
       "      <td>Landing</td>\n",
       "      <td>Foreign</td>\n",
       "      <td>NaN</td>\n",
       "    </tr>\n",
       "    <tr>\n",
       "      <th>9996</th>\n",
       "      <td>20140917X83320</td>\n",
       "      <td>Accident</td>\n",
       "      <td>ANC14CA084</td>\n",
       "      <td>2014-09-17</td>\n",
       "      <td>CANTWELL, AK</td>\n",
       "      <td>United States</td>\n",
       "      <td>62.950833</td>\n",
       "      <td>-148.246666</td>\n",
       "      <td>NaN</td>\n",
       "      <td>NaN</td>\n",
       "      <td>...</td>\n",
       "      <td>Instructional</td>\n",
       "      <td>NaN</td>\n",
       "      <td>NaN</td>\n",
       "      <td>NaN</td>\n",
       "      <td>NaN</td>\n",
       "      <td>2.0</td>\n",
       "      <td>VMC</td>\n",
       "      <td>Takeoff</td>\n",
       "      <td>Probable Cause</td>\n",
       "      <td>09-10-2015</td>\n",
       "    </tr>\n",
       "    <tr>\n",
       "      <th>9997</th>\n",
       "      <td>20141029X71607</td>\n",
       "      <td>Incident</td>\n",
       "      <td>DCA15WA016B</td>\n",
       "      <td>2014-09-17</td>\n",
       "      <td>Malaga, Spain</td>\n",
       "      <td>Spain</td>\n",
       "      <td>NaN</td>\n",
       "      <td>NaN</td>\n",
       "      <td>LEMG</td>\n",
       "      <td>Malaga</td>\n",
       "      <td>...</td>\n",
       "      <td>NaN</td>\n",
       "      <td>NaN</td>\n",
       "      <td>NaN</td>\n",
       "      <td>NaN</td>\n",
       "      <td>NaN</td>\n",
       "      <td>2.0</td>\n",
       "      <td>NaN</td>\n",
       "      <td>NaN</td>\n",
       "      <td>Foreign</td>\n",
       "      <td>NaN</td>\n",
       "    </tr>\n",
       "    <tr>\n",
       "      <th>9998</th>\n",
       "      <td>20141029X71607</td>\n",
       "      <td>Incident</td>\n",
       "      <td>DCA15WA016A</td>\n",
       "      <td>2014-09-17</td>\n",
       "      <td>Malaga, Spain</td>\n",
       "      <td>Spain</td>\n",
       "      <td>NaN</td>\n",
       "      <td>NaN</td>\n",
       "      <td>LEMG</td>\n",
       "      <td>Malaga</td>\n",
       "      <td>...</td>\n",
       "      <td>NaN</td>\n",
       "      <td>NaN</td>\n",
       "      <td>NaN</td>\n",
       "      <td>NaN</td>\n",
       "      <td>NaN</td>\n",
       "      <td>2.0</td>\n",
       "      <td>NaN</td>\n",
       "      <td>NaN</td>\n",
       "      <td>Foreign</td>\n",
       "      <td>NaN</td>\n",
       "    </tr>\n",
       "  </tbody>\n",
       "</table>\n",
       "<p>9999 rows × 31 columns</p>\n",
       "</div>"
      ],
      "text/plain": [
       "            Event.Id Investigation.Type Accident.Number  Event.Date  \\\n",
       "0        2.02102E+13           Accident      CEN21FA130  2021-02-16   \n",
       "1        2.02102E+13           Accident      ERA21FA130  2021-02-15   \n",
       "2        2.02102E+13           Accident      ANC21LA017  2021-02-13   \n",
       "3        2.02102E+13           Accident      CEN21LA127  2021-02-12   \n",
       "4        2.02102E+13           Accident      ERA21LA131  2021-02-10   \n",
       "...              ...                ...             ...         ...   \n",
       "9994  20140918X93937           Accident      CEN14LA504  2014-09-18   \n",
       "9995  20140922X90145           Accident      CEN14WA509  2014-09-17   \n",
       "9996  20140917X83320           Accident      ANC14CA084  2014-09-17   \n",
       "9997  20141029X71607           Incident     DCA15WA016B  2014-09-17   \n",
       "9998  20141029X71607           Incident     DCA15WA016A  2014-09-17   \n",
       "\n",
       "                LOCATION        Country   Latitude   Longitude Airport.Code  \\\n",
       "0         JANESVILLE, WI  United States  42.595377  -89.030245          NaN   \n",
       "1          St Thomas, CB  United States  18.354444  -65.027778          NaN   \n",
       "2             TYONEK, AK  United States  61.336392 -152.016430          NaN   \n",
       "3     PRAIRIE DU SAC, WI  United States  43.297731  -89.755693          91C   \n",
       "4        LAKE PLACID, FL  United States  27.243723  -81.413767         09FA   \n",
       "...                  ...            ...        ...         ...          ...   \n",
       "9994     Bloomington, IN  United States  39.164722  -86.618889         KBMG   \n",
       "9995  LE TOUGUET, FRANCE         France        NaN         NaN         LFAT   \n",
       "9996        CANTWELL, AK  United States  62.950833 -148.246666          NaN   \n",
       "9997       Malaga, Spain          Spain        NaN         NaN         LEMG   \n",
       "9998       Malaga, Spain          Spain        NaN         NaN         LEMG   \n",
       "\n",
       "                         Airport.Name  ... Purpose.of.flight  \\\n",
       "0                                 NaN  ...             Ferry   \n",
       "1                                 NaN  ...              Aobv   \n",
       "2                                 NaN  ...          Personal   \n",
       "3                        SAUK-PRAIRIE  ...     Instructional   \n",
       "4                                 NaN  ...          Personal   \n",
       "...                               ...  ...               ...   \n",
       "9994            Monroe County Airport  ...          Personal   \n",
       "9995  Le Touquet C??te d'Opale Airpor  ...          Personal   \n",
       "9996                              NaN  ...     Instructional   \n",
       "9997                           Malaga  ...               NaN   \n",
       "9998                           Malaga  ...               NaN   \n",
       "\n",
       "                         Air.carrier Total.Fatal.Injuries  \\\n",
       "0                                NaN                  2.0   \n",
       "1     Caribbean Buzz Management Llc.                  4.0   \n",
       "2                       Paul Andrews                  0.0   \n",
       "3                                NaN                  0.0   \n",
       "4                        Case Robert                  0.0   \n",
       "...                              ...                  ...   \n",
       "9994                             NaN                  2.0   \n",
       "9995                             NaN                  NaN   \n",
       "9996                             NaN                  NaN   \n",
       "9997                             NaN                  NaN   \n",
       "9998                             NaN                  NaN   \n",
       "\n",
       "     Total.Serious.Injuries Total.Minor.Injuries Total.Uninjured  \\\n",
       "0                       0.0                  0.0             0.0   \n",
       "1                       0.0                  0.0             0.0   \n",
       "2                       0.0                  2.0             0.0   \n",
       "3                       0.0                  0.0             1.0   \n",
       "4                       0.0                  1.0             0.0   \n",
       "...                     ...                  ...             ...   \n",
       "9994                    NaN                  NaN             NaN   \n",
       "9995                    NaN                  NaN             2.0   \n",
       "9996                    NaN                  NaN             2.0   \n",
       "9997                    NaN                  NaN             2.0   \n",
       "9998                    NaN                  NaN             2.0   \n",
       "\n",
       "     Weather.Condition  Broad.phase.of.flight   Report.Status Publication.Date  \n",
       "0                  VMC                    NaN             NaN              NaN  \n",
       "1                  VMC                    NaN             NaN              NaN  \n",
       "2                  NaN                    NaN             NaN              NaN  \n",
       "3                  VMC                    NaN             NaN              NaN  \n",
       "4                  NaN                    NaN             NaN              NaN  \n",
       "...                ...                    ...             ...              ...  \n",
       "9994               VMC                 Cruise  Probable Cause       05-01-2016  \n",
       "9995               VMC                Landing         Foreign              NaN  \n",
       "9996               VMC                Takeoff  Probable Cause       09-10-2015  \n",
       "9997               NaN                    NaN         Foreign              NaN  \n",
       "9998               NaN                    NaN         Foreign              NaN  \n",
       "\n",
       "[9999 rows x 31 columns]"
      ]
     },
     "execution_count": 115,
     "metadata": {},
     "output_type": "execute_result"
    }
   ],
   "source": [
    "AviationData"
   ]
  },
  {
   "cell_type": "code",
   "execution_count": 116,
   "metadata": {},
   "outputs": [
    {
     "data": {
      "image/png": "[encoded data removed]",
      "text/plain": [
       "<Figure size 360x360 with 1 Axes>"
      ]
     },
     "metadata": {
      "needs_background": "light"
     },
     "output_type": "display_data"
    }
   ],
   "source": [
    "purpose_table = pd.crosstab(index=AviationData[\"Purpose.of.flight\"], columns=\"Purpose.of.flight\")\n",
    "purpose_table.plot(kind=\"bar\",\n",
    "                 figsize=(5,5));"
   ]
  },
  {
   "cell_type": "code",
   "execution_count": 117,
   "metadata": {},
   "outputs": [
    {
     "data": {
      "image/png": "[encoded data removed]",
      "text/plain": [
       "<Figure size 576x576 with 1 Axes>"
      ]
     },
     "metadata": {
      "needs_background": "light"
     },
     "output_type": "display_data"
    }
   ],
   "source": [
    "destroyed_table = pd.crosstab(index=AviationData[\"Broad.phase.of.flight\"], \n",
    "                          columns=AviationData[\"Aircraft.damage\"])\n",
    "\n",
    "\n",
    "destroyed_table.plot(kind=\"bar\", \n",
    "                 figsize=(8,8),\n",
    "                 stacked=True);\n"
   ]
  },
  {
   "cell_type": "code",
   "execution_count": 118,
   "metadata": {},
   "outputs": [
    {
     "data": {
      "text/plain": [
       "<AxesSubplot:ylabel='Injury.Severity'>"
      ]
     },
     "execution_count": 118,
     "metadata": {},
     "output_type": "execute_result"
    },
    {
     "data": {
      "image/png": "[encoded data removed]",
      "text/plain": [
       "<Figure size 432x288 with 1 Axes>"
      ]
     },
     "metadata": {},
     "output_type": "display_data"
    }
   ],
   "source": [
    "#amateur\n",
    "things = AviationData[AviationData[\"Amateur.Built\"] == \"Yes\"][\"Injury.Severity\"]\n",
    "things_count = things.value_counts()\n",
    "things_count.plot(kind = 'pie', fontsize = 10)"
   ]
  },
  {
   "cell_type": "code",
   "execution_count": 119,
   "metadata": {},
   "outputs": [
    {
     "data": {
      "text/plain": [
       "<AxesSubplot:ylabel='Injury.Severity'>"
      ]
     },
     "execution_count": 119,
     "metadata": {},
     "output_type": "execute_result"
    },
    {
     "data": {
      "image/png": "[encoded data removed]",
      "text/plain": [
       "<Figure size 432x288 with 1 Axes>"
      ]
     },
     "metadata": {},
     "output_type": "display_data"
    }
   ],
   "source": [
    "#pro built\n",
    "\n",
    "things = AviationData[AviationData[\"Amateur.Built\"] == \"No\"][\"Injury.Severity\"]\n",
    "things_count = things.value_counts()\n",
    "things_count.plot(kind = 'pie', fontsize = 10)"
   ]
  },
  {
   "cell_type": "code",
   "execution_count": 120,
   "metadata": {},
   "outputs": [
    {
     "data": {
      "text/plain": [
       "Boeing              3\n",
       "Airbus              2\n",
       "Airbus Industrie    1\n",
       "Name: Make, dtype: int64"
      ]
     },
     "execution_count": 120,
     "metadata": {},
     "output_type": "execute_result"
    }
   ],
   "source": [
    "AviationData[AviationData[\"Total.Fatal.Injuries\"] >= 150][\"Make\"].value_counts()"
   ]
  },
  {
   "cell_type": "code",
   "execution_count": 121,
   "metadata": {},
   "outputs": [
    {
     "data": {
      "text/plain": [
       "<AxesSubplot:ylabel='Broad.phase.of.flight'>"
      ]
     },
     "execution_count": 121,
     "metadata": {},
     "output_type": "execute_result"
    },
    {
     "data": {
      "image/png": "[encoded data removed]",
      "text/plain": [
       "<Figure size 432x288 with 1 Axes>"
      ]
     },
     "metadata": {},
     "output_type": "display_data"
    }
   ],
   "source": [
    "\n",
    "things = AviationData[AviationData[\"Weather.Condition\"] == \"IMC\"][\"Broad.phase.of.flight\"]\n",
    "things_count = things.value_counts()\n",
    "things_count.plot(kind = 'pie', fontsize = 10)"
   ]
  },
  {
   "cell_type": "code",
   "execution_count": 122,
   "metadata": {},
   "outputs": [
    {
     "data": {
      "text/plain": [
       "Substantial    15\n",
       "Minor           8\n",
       "Destroyed       3\n",
       "Name: Aircraft.damage, dtype: int64"
      ]
     },
     "execution_count": 122,
     "metadata": {},
     "output_type": "execute_result"
    }
   ],
   "source": [
    "AviationData[AviationData[\"Aircraft.Category\"] == \"Balloon\"][\"Aircraft.damage\"].value_counts()"
   ]
  },
  {
   "cell_type": "code",
   "execution_count": 123,
   "metadata": {},
   "outputs": [
    {
     "ename": "KeyError",
     "evalue": "'Total..Injuries'",
     "output_type": "error",
     "traceback": [
      "\u001b[0;31m---------------------------------------------------------------------------\u001b[0m",
      "\u001b[0;31mKeyError\u001b[0m                                  Traceback (most recent call last)",
      "\u001b[0;32m/workspace/.pip-modules/lib/python3.8/site-packages/pandas/core/indexes/base.py\u001b[0m in \u001b[0;36mget_loc\u001b[0;34m(self, key, method, tolerance)\u001b[0m\n\u001b[1;32m   3360\u001b[0m             \u001b[0;32mtry\u001b[0m\u001b[0;34m:\u001b[0m\u001b[0;34m\u001b[0m\u001b[0;34m\u001b[0m\u001b[0m\n\u001b[0;32m-> 3361\u001b[0;31m                 \u001b[0;32mreturn\u001b[0m \u001b[0mself\u001b[0m\u001b[0;34m.\u001b[0m\u001b[0m_engine\u001b[0m\u001b[0;34m.\u001b[0m\u001b[0mget_loc\u001b[0m\u001b[0;34m(\u001b[0m\u001b[0mcasted_key\u001b[0m\u001b[0;34m)\u001b[0m\u001b[0;34m\u001b[0m\u001b[0;34m\u001b[0m\u001b[0m\n\u001b[0m\u001b[1;32m   3362\u001b[0m             \u001b[0;32mexcept\u001b[0m \u001b[0mKeyError\u001b[0m \u001b[0;32mas\u001b[0m \u001b[0merr\u001b[0m\u001b[0;34m:\u001b[0m\u001b[0;34m\u001b[0m\u001b[0;34m\u001b[0m\u001b[0m\n",
      "\u001b[0;32m/workspace/.pip-modules/lib/python3.8/site-packages/pandas/_libs/index.pyx\u001b[0m in \u001b[0;36mpandas._libs.index.IndexEngine.get_loc\u001b[0;34m()\u001b[0m\n",
      "\u001b[0;32m/workspace/.pip-modules/lib/python3.8/site-packages/pandas/_libs/index.pyx\u001b[0m in \u001b[0;36mpandas._libs.index.IndexEngine.get_loc\u001b[0;34m()\u001b[0m\n",
      "\u001b[0;32mpandas/_libs/hashtable_class_helper.pxi\u001b[0m in \u001b[0;36mpandas._libs.hashtable.PyObjectHashTable.get_item\u001b[0;34m()\u001b[0m\n",
      "\u001b[0;32mpandas/_libs/hashtable_class_helper.pxi\u001b[0m in \u001b[0;36mpandas._libs.hashtable.PyObjectHashTable.get_item\u001b[0;34m()\u001b[0m\n",
      "\u001b[0;31mKeyError\u001b[0m: 'Total..Injuries'",
      "\nThe above exception was the direct cause of the following exception:\n",
      "\u001b[0;31mKeyError\u001b[0m                                  Traceback (most recent call last)",
      "\u001b[0;32m/tmp/ipykernel_924/3039938654.py\u001b[0m in \u001b[0;36m<module>\u001b[0;34m\u001b[0m\n\u001b[0;32m----> 1\u001b[0;31m \u001b[0mAviationData\u001b[0m\u001b[0;34m.\u001b[0m\u001b[0mplot\u001b[0m\u001b[0;34m(\u001b[0m\u001b[0mx\u001b[0m \u001b[0;34m=\u001b[0m \u001b[0;34m\"Number.of.Engines\"\u001b[0m\u001b[0;34m,\u001b[0m \u001b[0my\u001b[0m\u001b[0;34m=\u001b[0m\u001b[0;34m\"Total..Injuries\"\u001b[0m\u001b[0;34m,\u001b[0m \u001b[0mkind\u001b[0m\u001b[0;34m=\u001b[0m\u001b[0;34m\"line\"\u001b[0m\u001b[0;34m)\u001b[0m\u001b[0;34m\u001b[0m\u001b[0;34m\u001b[0m\u001b[0m\n\u001b[0m",
      "\u001b[0;32m/workspace/.pip-modules/lib/python3.8/site-packages/pandas/plotting/_core.py\u001b[0m in \u001b[0;36m__call__\u001b[0;34m(self, *args, **kwargs)\u001b[0m\n\u001b[1;32m    956\u001b[0m \u001b[0;34m\u001b[0m\u001b[0m\n\u001b[1;32m    957\u001b[0m                 \u001b[0;31m# don't overwrite\u001b[0m\u001b[0;34m\u001b[0m\u001b[0;34m\u001b[0m\u001b[0;34m\u001b[0m\u001b[0m\n\u001b[0;32m--> 958\u001b[0;31m                 \u001b[0mdata\u001b[0m \u001b[0;34m=\u001b[0m \u001b[0mdata\u001b[0m\u001b[0;34m[\u001b[0m\u001b[0my\u001b[0m\u001b[0;34m]\u001b[0m\u001b[0;34m.\u001b[0m\u001b[0mcopy\u001b[0m\u001b[0;34m(\u001b[0m\u001b[0;34m)\u001b[0m\u001b[0;34m\u001b[0m\u001b[0;34m\u001b[0m\u001b[0m\n\u001b[0m\u001b[1;32m    959\u001b[0m \u001b[0;34m\u001b[0m\u001b[0m\n\u001b[1;32m    960\u001b[0m                 \u001b[0;32mif\u001b[0m \u001b[0misinstance\u001b[0m\u001b[0;34m(\u001b[0m\u001b[0mdata\u001b[0m\u001b[0;34m,\u001b[0m \u001b[0mABCSeries\u001b[0m\u001b[0;34m)\u001b[0m\u001b[0;34m:\u001b[0m\u001b[0;34m\u001b[0m\u001b[0;34m\u001b[0m\u001b[0m\n",
      "\u001b[0;32m/workspace/.pip-modules/lib/python3.8/site-packages/pandas/core/frame.py\u001b[0m in \u001b[0;36m__getitem__\u001b[0;34m(self, key)\u001b[0m\n\u001b[1;32m   3456\u001b[0m             \u001b[0;32mif\u001b[0m \u001b[0mself\u001b[0m\u001b[0;34m.\u001b[0m\u001b[0mcolumns\u001b[0m\u001b[0;34m.\u001b[0m\u001b[0mnlevels\u001b[0m \u001b[0;34m>\u001b[0m \u001b[0;36m1\u001b[0m\u001b[0;34m:\u001b[0m\u001b[0;34m\u001b[0m\u001b[0;34m\u001b[0m\u001b[0m\n\u001b[1;32m   3457\u001b[0m                 \u001b[0;32mreturn\u001b[0m \u001b[0mself\u001b[0m\u001b[0;34m.\u001b[0m\u001b[0m_getitem_multilevel\u001b[0m\u001b[0;34m(\u001b[0m\u001b[0mkey\u001b[0m\u001b[0;34m)\u001b[0m\u001b[0;34m\u001b[0m\u001b[0;34m\u001b[0m\u001b[0m\n\u001b[0;32m-> 3458\u001b[0;31m             \u001b[0mindexer\u001b[0m \u001b[0;34m=\u001b[0m \u001b[0mself\u001b[0m\u001b[0;34m.\u001b[0m\u001b[0mcolumns\u001b[0m\u001b[0;34m.\u001b[0m\u001b[0mget_loc\u001b[0m\u001b[0;34m(\u001b[0m\u001b[0mkey\u001b[0m\u001b[0;34m)\u001b[0m\u001b[0;34m\u001b[0m\u001b[0;34m\u001b[0m\u001b[0m\n\u001b[0m\u001b[1;32m   3459\u001b[0m             \u001b[0;32mif\u001b[0m \u001b[0mis_integer\u001b[0m\u001b[0;34m(\u001b[0m\u001b[0mindexer\u001b[0m\u001b[0;34m)\u001b[0m\u001b[0;34m:\u001b[0m\u001b[0;34m\u001b[0m\u001b[0;34m\u001b[0m\u001b[0m\n\u001b[1;32m   3460\u001b[0m                 \u001b[0mindexer\u001b[0m \u001b[0;34m=\u001b[0m \u001b[0;34m[\u001b[0m\u001b[0mindexer\u001b[0m\u001b[0;34m]\u001b[0m\u001b[0;34m\u001b[0m\u001b[0;34m\u001b[0m\u001b[0m\n",
      "\u001b[0;32m/workspace/.pip-modules/lib/python3.8/site-packages/pandas/core/indexes/base.py\u001b[0m in \u001b[0;36mget_loc\u001b[0;34m(self, key, method, tolerance)\u001b[0m\n\u001b[1;32m   3361\u001b[0m                 \u001b[0;32mreturn\u001b[0m \u001b[0mself\u001b[0m\u001b[0;34m.\u001b[0m\u001b[0m_engine\u001b[0m\u001b[0;34m.\u001b[0m\u001b[0mget_loc\u001b[0m\u001b[0;34m(\u001b[0m\u001b[0mcasted_key\u001b[0m\u001b[0;34m)\u001b[0m\u001b[0;34m\u001b[0m\u001b[0;34m\u001b[0m\u001b[0m\n\u001b[1;32m   3362\u001b[0m             \u001b[0;32mexcept\u001b[0m \u001b[0mKeyError\u001b[0m \u001b[0;32mas\u001b[0m \u001b[0merr\u001b[0m\u001b[0;34m:\u001b[0m\u001b[0;34m\u001b[0m\u001b[0;34m\u001b[0m\u001b[0m\n\u001b[0;32m-> 3363\u001b[0;31m                 \u001b[0;32mraise\u001b[0m \u001b[0mKeyError\u001b[0m\u001b[0;34m(\u001b[0m\u001b[0mkey\u001b[0m\u001b[0;34m)\u001b[0m \u001b[0;32mfrom\u001b[0m \u001b[0merr\u001b[0m\u001b[0;34m\u001b[0m\u001b[0;34m\u001b[0m\u001b[0m\n\u001b[0m\u001b[1;32m   3364\u001b[0m \u001b[0;34m\u001b[0m\u001b[0m\n\u001b[1;32m   3365\u001b[0m         \u001b[0;32mif\u001b[0m \u001b[0mis_scalar\u001b[0m\u001b[0;34m(\u001b[0m\u001b[0mkey\u001b[0m\u001b[0;34m)\u001b[0m \u001b[0;32mand\u001b[0m \u001b[0misna\u001b[0m\u001b[0;34m(\u001b[0m\u001b[0mkey\u001b[0m\u001b[0;34m)\u001b[0m \u001b[0;32mand\u001b[0m \u001b[0;32mnot\u001b[0m \u001b[0mself\u001b[0m\u001b[0;34m.\u001b[0m\u001b[0mhasnans\u001b[0m\u001b[0;34m:\u001b[0m\u001b[0;34m\u001b[0m\u001b[0;34m\u001b[0m\u001b[0m\n",
      "\u001b[0;31mKeyError\u001b[0m: 'Total..Injuries'"
     ]
    }
   ],
   "source": [
    "AviationData.plot(x = \"Number.of.Engines\", y=\"Total..Injuries\", kind=\"line\")"
   ]
  },
  {
   "cell_type": "code",
   "execution_count": null,
   "metadata": {},
   "outputs": [],
   "source": [
    "things_count = AviationData[\"Number.of.Engines\"]\n",
    "things_count.plot(kind = 'pie', fontsize = 10)"
   ]
  },
  {
   "cell_type": "code",
   "execution_count": null,
   "metadata": {},
   "outputs": [],
   "source": [
    "AviationData[AviationData['Total.Fatal.Injuries'] == 224.0].index.tolist()\n",
    "AviationData.iloc[8221]"
   ]
  },
  {
   "cell_type": "code",
   "execution_count": null,
   "metadata": {},
   "outputs": [],
   "source": [
    "state_dict = {}\n",
    "States = [\"CA\",\"AK\",\"AZ\",\"AR\",\"CA\",\"CO\",\"CT\",\"DE\",\"FL\",\"GA\",\"HI\",\"ID\",\"IL\",\"IN\",\"IA\",\"KS\",\"KY\",\"LA\",\"ME\",\"MD\",\"MI\",\"MN\",\"MS\",\"MO\",\"MT\",\"NE\",\"NH\",\"NJ\",\"NM\",\"NY\",\"NC\",\"ND\",\"OH\",\"OK\",\"OR\",\"PA\",\"RI\",\"SC\",\"SD\",\"TN\",\"TX\",\"UT\",\"VT\",\"VA\",\"WV\",\"WI\",\"WY\"]\n",
    "for i in States: \n",
    "    State = AviationData[\"LOCATION\"].str.contains(i, na=False)\n",
    "    Total = AviationData[State].shape[0]\n",
    "    state_dict.update({i:Total})\n",
    "\n",
    "sorted_d = dict( sorted(state_dict.items(), key=operator.itemgetter(1),reverse=True))\n",
    "state_df  = pd.DataFrame(list(sorted_d.items()))\n",
    "\n",
    "state_df\n",
    "\n",
    "Gulf of mexico\n",
    "GM\n",
    "Atlantic ocean\n",
    "AO\n",
    "Pacific ocean\n",
    "PO"
   ]
  },
  {
   "cell_type": "code",
   "execution_count": 124,
   "metadata": {},
   "outputs": [
    {
     "name": "stdout",
     "output_type": "stream",
     "text": [
      "Water\n",
      "Total 286\n",
      "    0    1\n",
      "0  PO  247\n",
      "1  AO   20\n",
      "2  GM   19\n"
     ]
    }
   ],
   "source": [
    "state_dict = {}\n",
    "\n",
    "North_East = [\"CT\", \"ME\", \"MA\", \"NH\", \"RI\",\"VT\", \"NJ\", \"NY\", \"PA\"]\n",
    "Mid_West = [\"IL\", \"IN\", \"MI\",\"OH\", \"WI\", \"IA\", \"KS\", \"MN\", \"MO\", \"NE\", \"ND\", \"SD\"]\n",
    "South = [\"DE\", \"FL\", \"GA\", \"MD\", \"NC\", \"SC\", \"VA\", \"WV\", \"AL\", \"KY\", \"MS\", \"TN\",\"TX\", \"OK\", \"LA\", \"AR\"]\n",
    "West = [\"CO\", \"ID\", \"MT\", \"NV\", \"NM\",\"UT\",\"WY\", \"AK\", \"CA\",\"HI\",\"OR\", \"WA\"]\n",
    "Seas = [\"GM\", \"AO\", \"PO\"]\n",
    "\n",
    "States = [\"CA\",\"AK\",\"AZ\",\"AR\",\"CA\",\"CO\",\"CT\",\"DE\",\"FL\",\"GA\",\"HI\",\"ID\",\"IL\",\"IN\",\"IA\",\"KS\",\"KY\",\"LA\",\"ME\",\"MD\",\"MI\",\"MN\",\"MS\",\"MO\",\"MT\",\"NE\",\"NH\",\"NJ\",\"NM\",\"NY\",\"NC\",\"ND\",\"OH\",\"OK\",\"OR\",\"PA\",\"RI\",\"SC\",\"SD\",\"TN\",\"TX\",\"UT\",\"VT\",\"VA\",\"WV\",\"WI\",\"WY\"]\n",
    "for i in Seas: \n",
    "    State = AviationData[\"LOCATION\"].str.contains(i, na=False)\n",
    "    Total = AviationData[State].shape[0]\n",
    "    state_dict.update({i:Total})\n",
    "\n",
    "sorted_d = dict( sorted(state_dict.items(), key=operator.itemgetter(1),reverse=True))\n",
    "state_df  = pd.DataFrame(list(sorted_d.items()))\n",
    "\n",
    "Total = state_df[1].sum()\n",
    "print(\"Water\")\n",
    "print(\"Total\",Total)\n",
    "print(state_df)\n"
   ]
  }
 ],
 "metadata": {
  "interpreter": {
   "hash": "625c31d6b4db3d7e7e2853cc30dc2062e1cda684f3e49d5f899ae496ae755fe0"
  },
  "kernelspec": {
   "display_name": "Python 3.8.12 64-bit ('3.8.12': pyenv)",
   "name": "python3"
  },
  "language_info": {
   "codemirror_mode": {
    "name": "ipython",
    "version": 3
   },
   "file_extension": ".py",
   "mimetype": "text/x-python",
   "name": "python",
   "nbconvert_exporter": "python",
   "pygments_lexer": "ipython3",
   "version": "3.8.12"
  },
  "orig_nbformat": 4
 },
 "nbformat": 4,
 "nbformat_minor": 2
}
