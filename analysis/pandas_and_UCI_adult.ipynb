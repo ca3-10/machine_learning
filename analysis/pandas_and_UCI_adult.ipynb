{
 "cells": [
  {
   "cell_type": "code",
   "execution_count": null,
   "metadata": {},
   "outputs": [],
   "source": [
    "import numpy as np\n",
    "import pandas as pd\n",
    "\n",
    "pd.set_option(\"display.precision\", 2)"
   ]
  },
  {
   "cell_type": "code",
   "execution_count": null,
   "metadata": {},
   "outputs": [],
   "source": [
    "df = pd.read_csv(\"../analysis/adult.data.csv\")\n",
    "df.head()"
   ]
  },
  {
   "cell_type": "code",
   "execution_count": null,
   "metadata": {},
   "outputs": [],
   "source": [
    "#How many men and women (sex feature) are represented in this dataset?\n",
    "\n",
    "df[\"sex\"].value_counts()"
   ]
  },
  {
   "cell_type": "code",
   "execution_count": null,
   "metadata": {},
   "outputs": [],
   "source": [
    "#2. What is the average age (age feature) of women?\n",
    "df[df[\"sex\"] == \"Female\"][\"age\"].mean()"
   ]
  },
  {
   "cell_type": "code",
   "execution_count": null,
   "metadata": {},
   "outputs": [],
   "source": [
    "#3. What is the percentage of German citizens (native-country feature)?\n",
    "\n",
    "float((df['native-country'] == 'Germany').sum()) / df.shape[0]"
   ]
  },
  {
   "cell_type": "code",
   "execution_count": null,
   "metadata": {},
   "outputs": [],
   "source": [
    "# 4. What are the mean and standard deviation of age for those who earn more than 50K per year (salary feature)?\n",
    "\n",
    "df[df[\"salary\"] == \">50K\"][\"age\"].agg([np.mean, np.std])"
   ]
  },
  {
   "cell_type": "code",
   "execution_count": null,
   "metadata": {},
   "outputs": [],
   "source": [
    "#5. What are the mean and standard deviation of age for those who earn less than 50K per year?\n",
    "\n",
    "df[df[\"salary\"] == \"<=50K\"][\"age\"].agg([np.mean, np.std])"
   ]
  },
  {
   "cell_type": "code",
   "execution_count": null,
   "metadata": {},
   "outputs": [],
   "source": [
    "#6. Is it true that people who earn more than 50K have at least high school education? (education – Bachelors, Prof-school, Assoc-acdm, Assoc-voc, Masters or Doctorate feature)?\n",
    "\n",
    "df[df[\"salary\"] == \">50K\"][\"education\"].unique()\n",
    "\n",
    "#NO\n"
   ]
  },
  {
   "cell_type": "code",
   "execution_count": null,
   "metadata": {},
   "outputs": [],
   "source": [
    "#8. Among whom is the proportion of those who earn a lot (>50K) greater: married or single men?\n",
    "df[(df['sex'] == 'Male') & (df['marital-status'].isin(['Never-married', 'Separated', 'Divorced','Widowed']))]['salary'].value_counts()\n",
    "#<=50K    7552\n",
    "#>50K      697\n",
    "\n",
    "df[(df['sex'] == 'Male') & (df['marital-status'].isin([\"Married-civ-spouse\", \"Married-spouse-absent\", \"Married-AF-spouse\"]))]['salary'].value_counts()\n",
    "#<=50K    7576\n",
    "#>50K     5965\n"
   ]
  },
  {
   "cell_type": "code",
   "execution_count": null,
   "metadata": {},
   "outputs": [],
   "source": [
    "#What is the maximum number of hours a person works per week (hours-per-week feature)? \n",
    "# How many people work such a number of hours, and what is the percentage of those who earn a lot (>50K) among them?\n",
    "\n",
    "df[\"hours-per-week\"].max() #99\n",
    "df[df[\"hours-per-week\"] == 99].shape[0] #85\n",
    "\n",
    "#(99 hours and slary >50k)/85\n",
    "\n",
    "float(df[(df[\"hours-per-week\"] == 99) & (df[\"salary\"] == \">50K\")].shape[0])/ 85 * 100\n"
   ]
  }
 ],
 "metadata": {
  "interpreter": {
   "hash": "8b8334dab9339717f727a1deaf837b322d7a41c20d15cc86be99a8e69ceec8ce"
  },
  "kernelspec": {
   "display_name": "Python 3.8.12 64-bit ('3.8.12': pyenv)",
   "name": "python3"
  },
  "language_info": {
   "codemirror_mode": {
    "name": "ipython",
    "version": 3
   },
   "file_extension": ".py",
   "mimetype": "text/x-python",
   "name": "python",
   "nbconvert_exporter": "python",
   "pygments_lexer": "ipython3",
   "version": "3.8.12"
  },
  "orig_nbformat": 4
 },
 "nbformat": 4,
 "nbformat_minor": 2
}
